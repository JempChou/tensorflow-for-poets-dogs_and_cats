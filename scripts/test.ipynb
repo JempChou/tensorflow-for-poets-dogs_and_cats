{
 "cells": [
  {
   "cell_type": "code",
   "execution_count": 1,
   "metadata": {
    "collapsed": true
   },
   "outputs": [],
   "source": [
    "def add_evaluation_step(result_tensor):\n",
    "  \"\"\"Inserts the operations we need to evaluate the accuracy of our results.\n",
    "\n",
    "  Args:\n",
    "    result_tensor: The new final node that produces results.\n",
    "    ground_truth_tensor: The node we feed ground truth data\n",
    "    into.\n",
    "\n",
    "  Returns:\n",
    "    Tuple of (evaluation step, prediction).\n",
    "  \"\"\"\n",
    "  with tf.name_scope('accuracy'):\n",
    "    with tf.name_scope('correct_prediction'):\n",
    "      prediction = tf.argmax(result_tensor, 1)\n",
    "  return  prediction"
   ]
  },
  {
   "cell_type": "code",
   "execution_count": 5,
   "metadata": {
    "collapsed": true
   },
   "outputs": [],
   "source": [
    "def load_graph(file_name):\n",
    "  with open(file_name,'rb') as f:\n",
    "    content = f.read()\n",
    "  graph_def = tf.GraphDef()\n",
    "  graph_def.ParseFromString(content)\n",
    "  with tf.Graph().as_default() as graph:\n",
    "    tf.import_graph_def(graph_def, name='')\n",
    "  return graph"
   ]
  },
  {
   "cell_type": "code",
   "execution_count": 113,
   "metadata": {},
   "outputs": [],
   "source": [
    "#!/usr/bin/python\n",
    "#coding:utf-8\n",
    "#\n",
    "# Copyright 2017 Google Inc.\n",
    "#\n",
    "# Licensed under the Apache License, Version 2.0 (the \"License\");\n",
    "# you may not use this file except in compliance with the License.\n",
    "# You may obtain a copy of the License at\n",
    "#\n",
    "#      http://www.apache.org/licenses/LICENSE-2.0\n",
    "#\n",
    "# Unless required by applicable law or agreed to in writing, software\n",
    "# distributed under the License is distributed on an \"AS IS\" BASIS,\n",
    "# WITHOUT WARRANTIES OR CONDITIONS OF ANY KIND, either express or implied.\n",
    "# See the License for the specific language governing permissions and\n",
    "# limitations under the License.\n",
    "\n",
    "#此代码是从evaluate.py改造而来\n",
    "\n",
    "\n",
    "from __future__ import absolute_import\n",
    "from __future__ import division\n",
    "from __future__ import print_function\n",
    "\n",
    "import os\n",
    "\n",
    "import sys\n",
    "import argparse\n",
    "\n",
    "import numpy as np\n",
    "import PIL.Image as Image\n",
    "import tensorflow as tf \n",
    "\n",
    "\n",
    "import os\n",
    "import time\n",
    "\n",
    "def evaluate_graph(graph_file_name):\n",
    "    with load_graph(graph_file_name).as_default() as graph:\n",
    "        \n",
    "        image_buffer_input = graph.get_tensor_by_name('input:0')#第0个输出\n",
    "        final_tensor = graph.get_tensor_by_name('final_result:0')\n",
    "        accuracy = add_evaluation_step(final_tensor)# 返回的是argmax的结果，1是猫，0是狗\n",
    "        \n",
    "        logits = graph.get_tensor_by_name(\"final_training_ops/Wx_plus_b/add:0\")\n",
    "        \n",
    "    image_dir = '/root/tensorflow-for-poets-dogs_and_cats/tf_files/dogs_and_cats_photos/test1'\n",
    "#     image_dir = '/root/tensorflow-for-poets-dogs_and_cats/tf_files/dogs_and_cats_photos/train/dogs/'\n",
    "\n",
    "    \n",
    "    \n",
    "    \n",
    "    accuracies = []\n",
    "    time1 = time.time()\n",
    "    with tf.Session(graph=graph) as sess:\n",
    "        summaries_dir = '/tmp/summaries'\n",
    "        writer = tf.summary.FileWriter(summaries_dir + '/evaluate',\n",
    "                                          sess.graph)\n",
    "        \n",
    "        for filename in range(1,125):    \n",
    "            image = Image.open(os.path.join(image_dir, str(filename) + '.jpg')).resize((224,224),Image.ANTIALIAS)\n",
    "            image = np.array(image, dtype=np.float32)[None,...]\n",
    "            image = (image-128)/128.0\n",
    "\n",
    "            feed_dict={\n",
    "                image_buffer_input: image}\n",
    "\n",
    "            eval_accuracy = sess.run([accuracy], feed_dict)\n",
    "            \n",
    "#             writer.add_graph(sess.graph)\n",
    "            accuracies.append(eval_accuracy)\n",
    "            \n",
    "            if (filename % 50 == 0) :print('step:',filename,'\\t total time:', time.time() - time1, 's')\n",
    "    return np.squeeze(accuracies)\n",
    "\n",
    "\n",
    "\n"
   ]
  },
  {
   "cell_type": "code",
   "execution_count": 114,
   "metadata": {},
   "outputs": [
    {
     "name": "stdout",
     "output_type": "stream",
     "text": [
      "step: 50 \t total time: 3.606268882751465 s\n",
      "step: 100 \t total time: 7.355381488800049 s\n"
     ]
    }
   ],
   "source": [
    "\n",
    "if __name__ == \"__main__\":\n",
    "    os.environ['TF_CPP_MIN_LOG_LEVEL'] = '2'\n",
    "    results = evaluate_graph('/root/tensorflow-for-poets-dogs_and_cats//tf_files/optimized_graph.pb')\n",
    "#     results = ((results==0).astype(np.int)) # 这里提交的时候需要取一下反，因为Kaggle提交结果要求用1代表狗，0代表猫\n",
    "    import pandas as pd\n",
    "    submit = pd.DataFrame({'id':list(range(1,125)),'label':results})\n",
    "    submit.to_csv('submit_test.csv', index=False, doublequote=False)\n",
    "\n",
    "\n",
    "    \n",
    "  "
   ]
  },
  {
   "cell_type": "code",
   "execution_count": 109,
   "metadata": {},
   "outputs": [
    {
     "name": "stdout",
     "output_type": "stream",
     "text": [
      "0    1217\n",
      "1      32\n",
      "Name: label, dtype: int64\n"
     ]
    }
   ],
   "source": [
    "    print(submit['label'].value_counts())"
   ]
  },
  {
   "cell_type": "code",
   "execution_count": null,
   "metadata": {
    "collapsed": true
   },
   "outputs": [],
   "source": []
  }
 ],
 "metadata": {
  "kernelspec": {
   "display_name": "Python 3",
   "language": "python",
   "name": "python3"
  },
  "language_info": {
   "codemirror_mode": {
    "name": "ipython",
    "version": 3
   },
   "file_extension": ".py",
   "mimetype": "text/x-python",
   "name": "python",
   "nbconvert_exporter": "python",
   "pygments_lexer": "ipython3",
   "version": "3.6.3"
  }
 },
 "nbformat": 4,
 "nbformat_minor": 2
}
